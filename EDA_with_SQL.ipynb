{
  "cells": [
    {
      "cell_type": "markdown",
      "metadata": {
        "id": "1a4572a7-337d-4da8-933e-77d85ab02a73"
      },
      "source": [
        "<p style=\"text-align:center\">\n",
        "    <a href=\"https://skills.network/?utm_medium=Exinfluencer&utm_source=Exinfluencer&utm_content=000026UJ&utm_term=10006555&utm_id=NA-SkillsNetwork-Channel-SkillsNetworkCoursesIBMDS0321ENSkillsNetwork865-2023-01-01\">\n",
        "    <img src=\"https://cf-courses-data.s3.us.cloud-object-storage.appdomain.cloud/assets/logos/SN_web_lightmode.png\" width=\"200\" alt=\"Skills Network Logo\"  />\n",
        "    </a>\n",
        "</p>\n",
        "\n",
        "<h1 align=center><font size = 5>Assignment: SQL Notebook for Peer Assignment</font></h1>\n",
        "\n",
        "Estimated time needed: **60** minutes.\n",
        "\n",
        "## Introduction\n",
        "Using this Python notebook you will:\n",
        "\n",
        "1.  Understand the Spacex DataSet\n",
        "2.  Load the dataset  into the corresponding table in a Db2 database\n",
        "3.  Execute SQL queries to answer assignment questions \n"
      ]
    },
    {
      "cell_type": "markdown",
      "metadata": {
        "id": "f0f042ef-27c0-4a64-94f5-b5f6ff99fa29"
      },
      "source": [
        "## Overview of the DataSet\n",
        "\n",
        "SpaceX has gained worldwide attention for a series of historic milestones. \n",
        "\n",
        "It is the only private company ever to return a spacecraft from low-earth orbit, which it first accomplished in December 2010.\n",
        "SpaceX advertises Falcon 9 rocket launches on its website with a cost of 62 million dollars wheras other providers cost upward of 165 million dollars each, much of the savings is because Space X can reuse the first stage. \n",
        "\n",
        "\n",
        "Therefore if we can determine if the first stage will land, we can determine the cost of a launch. \n",
        "\n",
        "This information can be used if an alternate company wants to bid against SpaceX for a rocket launch.\n",
        "\n",
        "This dataset includes a record for each payload carried during a SpaceX mission into outer space.\n"
      ]
    },
    {
      "cell_type": "markdown",
      "metadata": {
        "id": "9df33158-7234-4d15-83f0-acab745b6b06"
      },
      "source": [
        "### Download the datasets\n",
        "\n",
        "This assignment requires you to load the spacex dataset.\n",
        "\n",
        "In many cases the dataset to be analyzed is available as a .CSV (comma separated values) file, perhaps on the internet. Click on the link below to download and save the dataset (.CSV file):\n",
        "\n",
        " <a href=\"https://cf-courses-data.s3.us.cloud-object-storage.appdomain.cloud/IBM-DS0321EN-SkillsNetwork/labs/module_2/data/Spacex.csv\" target=\"_blank\">Spacex DataSet</a>\n",
        "\n"
      ]
    },
    {
      "cell_type": "markdown",
      "metadata": {
        "id": "7e594554-fe5c-4346-a1f3-38fb3e5c6126"
      },
      "source": [
        "**Navigate to the Go to UI screen** \n",
        "\n",
        "* Refer to this insruction in this <a href=\"https://cf-courses-data.s3.us.cloud-object-storage.appdomain.cloud/IBMDeveloperSkillsNetwork-DB0201EN-SkillsNetwork/labs/Labs_Coursera_V5/labs/Lab%20-%20Sign%20up%20for%20IBM%20Cloud%20-%20Create%20Db2%20service%20instance%20-%20Get%20started%20with%20the%20Db2%20console/instructional-labs.md.html\">link</a> for viewing  the   Go to UI screen. \n",
        "\n",
        "\n",
        "* Later click on **Data link(below SQL)**  in the Go to UI screen  and click on **Load Data** tab.  \n",
        "\n",
        "\n",
        "\n",
        "* Later browse for the downloaded spacex file.\n",
        "\n",
        "\n",
        "\n",
        "<img src=\"https://cf-courses-data.s3.us.cloud-object-storage.appdomain.cloud/IBM-DS0321EN-SkillsNetwork/labs/module_2/images/browsefile.png\" width=\"800\">\n",
        "\n",
        "\n",
        "* Once done select the schema andload the file.  \n",
        "\n",
        "\n",
        " <img src=\"https://cf-courses-data.s3.us.cloud-object-storage.appdomain.cloud/IBM-DS0321EN-SkillsNetwork/labs/module_2/images/spacexload3.png\" width=\"800\">\n",
        " \n"
      ]
    },
    {
      "cell_type": "markdown",
      "metadata": {
        "id": "10e0e2ed-3414-4c28-ad6e-7e21c1863683"
      },
      "source": [
        "\n",
        "If you are facing a problem in uploading the dataset (which is a csv file), you can follow the steps below to upload the .sql file instead of the CSV file:\n",
        "\n",
        "* Download the file <a href=\"https://cf-courses-data.s3.us.cloud-object-storage.appdomain.cloud/IBM-DS0321EN-SkillsNetwork/datasets/Spacex%20.sql\">Spacex.sql</a>\n",
        "\n",
        "* Later click on **SQL** in the  **Go to UI Screen**.\n",
        "\n",
        "* Use the **From file** option to browse for the **SQL** file and upload it.\n",
        "\n",
        "<img src=\"https://cf-courses-data.s3.us.cloud-object-storage.appdomain.cloud/IBM-DS0321EN-SkillsNetwork/labs/module_2/images/sqlfile.png\">\n",
        "\n",
        "* Once you upload the script,you can use the **Run All** option to run all the queries to insert the data.\n",
        "\n",
        "<img src=\"https://cf-courses-data.s3.us.cloud-object-storage.appdomain.cloud/IBM-DS0321EN-SkillsNetwork/labs/module_2/images/runall.png\">\n",
        "\n",
        "    \n"
      ]
    },
    {
      "cell_type": "code",
      "execution_count": 1,
      "metadata": {
        "colab": {
          "base_uri": "https://localhost:8080/"
        },
        "id": "cfa51ac3-773f-464f-8613-0f40371d1237",
        "outputId": "9872f1af-3030-4684-ee16-f7516315151d"
      },
      "outputs": [
        {
          "name": "stdout",
          "output_type": "stream",
          "text": [
            "Looking in indexes: https://pypi.org/simple, https://us-python.pkg.dev/colab-wheels/public/simple/\n",
            "Collecting ibm-db==3.1.0\n",
            "  Using cached ibm_db-3.1.0-cp39-cp39-linux_x86_64.whl\n",
            "Collecting ibm-db-sa==0.3.3\n",
            "  Using cached ibm_db_sa-0.3.3-py3-none-any.whl\n",
            "Collecting sqlalchemy>=0.7.3\n",
            "  Using cached SQLAlchemy-2.0.9-cp39-cp39-manylinux_2_17_x86_64.manylinux2014_x86_64.whl (2.8 MB)\n",
            "Collecting greenlet!=0.4.17\n",
            "  Using cached greenlet-2.0.2-cp39-cp39-manylinux_2_17_x86_64.manylinux2014_x86_64.whl (610 kB)\n",
            "Collecting typing-extensions>=4.2.0\n",
            "  Using cached typing_extensions-4.5.0-py3-none-any.whl (27 kB)\n",
            "Installing collected packages: ibm-db, typing-extensions, greenlet, sqlalchemy, ibm-db-sa\n",
            "  Attempting uninstall: ibm-db\n",
            "    Found existing installation: ibm-db 3.1.0\n",
            "    Uninstalling ibm-db-3.1.0:\n",
            "      Successfully uninstalled ibm-db-3.1.0\n",
            "  Attempting uninstall: typing-extensions\n",
            "    Found existing installation: typing_extensions 4.5.0\n",
            "    Uninstalling typing_extensions-4.5.0:\n",
            "      Successfully uninstalled typing_extensions-4.5.0\n",
            "  Attempting uninstall: greenlet\n",
            "    Found existing installation: greenlet 2.0.2\n",
            "    Uninstalling greenlet-2.0.2:\n",
            "      Successfully uninstalled greenlet-2.0.2\n",
            "  Attempting uninstall: sqlalchemy\n",
            "    Found existing installation: SQLAlchemy 1.3.24\n",
            "    Uninstalling SQLAlchemy-1.3.24:\n",
            "      Successfully uninstalled SQLAlchemy-1.3.24\n",
            "  Attempting uninstall: ibm-db-sa\n",
            "    Found existing installation: ibm-db-sa 0.3.3\n",
            "    Uninstalling ibm-db-sa-0.3.3:\n",
            "      Successfully uninstalled ibm-db-sa-0.3.3\n",
            "Successfully installed greenlet-2.0.2 ibm-db-3.1.0 ibm-db-sa-0.3.3 sqlalchemy-2.0.9 typing-extensions-4.5.0\n",
            "Looking in indexes: https://pypi.org/simple, https://us-python.pkg.dev/colab-wheels/public/simple/\n",
            "Collecting sqlalchemy==1.3.24\n",
            "  Using cached SQLAlchemy-1.3.24-cp39-cp39-manylinux2010_x86_64.whl (1.3 MB)\n",
            "Installing collected packages: sqlalchemy\n",
            "  Attempting uninstall: sqlalchemy\n",
            "    Found existing installation: SQLAlchemy 2.0.9\n",
            "    Uninstalling SQLAlchemy-2.0.9:\n",
            "      Successfully uninstalled SQLAlchemy-2.0.9\n",
            "Successfully installed sqlalchemy-1.3.24\n",
            "Found existing installation: ipython-sql 0.4.1\n",
            "Uninstalling ipython-sql-0.4.1:\n",
            "  Successfully uninstalled ipython-sql-0.4.1\n",
            "Looking in indexes: https://pypi.org/simple, https://us-python.pkg.dev/colab-wheels/public/simple/\n",
            "Collecting ipython-sql==0.4.1\n",
            "  Using cached ipython_sql-0.4.1-py3-none-any.whl (21 kB)\n",
            "Requirement already satisfied: ipython-genutils>=0.1.0 in /usr/local/lib/python3.9/dist-packages (from ipython-sql==0.4.1) (0.2.0)\n",
            "Requirement already satisfied: prettytable<1 in /usr/local/lib/python3.9/dist-packages (from ipython-sql==0.4.1) (0.7.2)\n",
            "Requirement already satisfied: six in /usr/local/lib/python3.9/dist-packages (from ipython-sql==0.4.1) (1.16.0)\n",
            "Requirement already satisfied: sqlparse in /usr/local/lib/python3.9/dist-packages (from ipython-sql==0.4.1) (0.4.3)\n",
            "Requirement already satisfied: sqlalchemy>=0.6.7 in /usr/local/lib/python3.9/dist-packages (from ipython-sql==0.4.1) (1.3.24)\n",
            "Requirement already satisfied: ipython>=1.0 in /usr/local/lib/python3.9/dist-packages (from ipython-sql==0.4.1) (7.34.0)\n",
            "Requirement already satisfied: pexpect>4.3 in /usr/local/lib/python3.9/dist-packages (from ipython>=1.0->ipython-sql==0.4.1) (4.8.0)\n",
            "Requirement already satisfied: matplotlib-inline in /usr/local/lib/python3.9/dist-packages (from ipython>=1.0->ipython-sql==0.4.1) (0.1.6)\n",
            "Requirement already satisfied: backcall in /usr/local/lib/python3.9/dist-packages (from ipython>=1.0->ipython-sql==0.4.1) (0.2.0)\n",
            "Requirement already satisfied: prompt-toolkit!=3.0.0,!=3.0.1,<3.1.0,>=2.0.0 in /usr/local/lib/python3.9/dist-packages (from ipython>=1.0->ipython-sql==0.4.1) (3.0.38)\n",
            "Requirement already satisfied: pickleshare in /usr/local/lib/python3.9/dist-packages (from ipython>=1.0->ipython-sql==0.4.1) (0.7.5)\n",
            "Requirement already satisfied: setuptools>=18.5 in /usr/local/lib/python3.9/dist-packages (from ipython>=1.0->ipython-sql==0.4.1) (67.6.1)\n",
            "Requirement already satisfied: jedi>=0.16 in /usr/local/lib/python3.9/dist-packages (from ipython>=1.0->ipython-sql==0.4.1) (0.18.2)\n",
            "Requirement already satisfied: traitlets>=4.2 in /usr/local/lib/python3.9/dist-packages (from ipython>=1.0->ipython-sql==0.4.1) (5.7.1)\n",
            "Requirement already satisfied: decorator in /usr/local/lib/python3.9/dist-packages (from ipython>=1.0->ipython-sql==0.4.1) (4.4.2)\n",
            "Requirement already satisfied: pygments in /usr/local/lib/python3.9/dist-packages (from ipython>=1.0->ipython-sql==0.4.1) (2.14.0)\n",
            "Requirement already satisfied: parso<0.9.0,>=0.8.0 in /usr/local/lib/python3.9/dist-packages (from jedi>=0.16->ipython>=1.0->ipython-sql==0.4.1) (0.8.3)\n",
            "Requirement already satisfied: ptyprocess>=0.5 in /usr/local/lib/python3.9/dist-packages (from pexpect>4.3->ipython>=1.0->ipython-sql==0.4.1) (0.7.0)\n",
            "Requirement already satisfied: wcwidth in /usr/local/lib/python3.9/dist-packages (from prompt-toolkit!=3.0.0,!=3.0.1,<3.1.0,>=2.0.0->ipython>=1.0->ipython-sql==0.4.1) (0.2.6)\n",
            "Installing collected packages: ipython-sql\n",
            "Successfully installed ipython-sql-0.4.1\n"
          ]
        }
      ],
      "source": [
        "!pip install --force-reinstall ibm-db==3.1.0 ibm-db-sa==0.3.3\n",
        "!pip install sqlalchemy==1.3.24\n",
        "!pip uninstall ipython-sql -y\n",
        "!pip install ipython-sql==0.4.1"
      ]
    },
    {
      "cell_type": "markdown",
      "metadata": {
        "id": "c3dba6f4-b072-426f-a321-170cc50d9d54"
      },
      "source": [
        "### Connect to the database\n",
        "\n",
        "Let us first load the SQL extension and establish a connection with the database\n"
      ]
    },
    {
      "cell_type": "code",
      "execution_count": 2,
      "metadata": {
        "id": "f6d1a362-0ff3-489a-89bf-89e07ae36de6"
      },
      "outputs": [],
      "source": [
        "%load_ext sql"
      ]
    },
    {
      "cell_type": "markdown",
      "metadata": {
        "id": "0d0f926b-bc7f-4fa8-bfb7-1df4c6eef9b1"
      },
      "source": [
        "\n",
        "\n",
        "\n",
        "**DB2 magic in case of  UI service credentials.**\n",
        "\n",
        "\n",
        "\n",
        "<img src=\"https://cf-courses-data.s3.us.cloud-object-storage.appdomain.cloud/IBM-DS0321EN-SkillsNetwork/labs/module_2/images/servicecredentials.png\" width=\"600\">  \n",
        "\n",
        "* Use the following format.\n",
        "\n",
        "* Add security=SSL at the end\n",
        "\n",
        "**%sql ibm_db_sa://my-username:my-password@my-hostname:my-port/my-db-name?security=SSL**\n"
      ]
    },
    {
      "cell_type": "code",
      "execution_count": 3,
      "metadata": {
        "id": "cX-kfeekN2aM"
      },
      "outputs": [],
      "source": [
        "import ibm_db_sa\n",
        "import ibm_db\n",
        "import sqlalchemy"
      ]
    },
    {
      "attachments": {},
      "cell_type": "markdown",
      "metadata": {},
      "source": [
        "The username, password, hostname and port names have been removed after running the notebook. "
      ]
    },
    {
      "cell_type": "code",
      "execution_count": 4,
      "metadata": {
        "id": "88bdd54b-9c54-4045-a2cc-36150de56071"
      },
      "outputs": [],
      "source": [
        "%sql ibm_db_sa://my-username:my-password@my-hostname:my-port/bludb?security=SSL"
      ]
    },
    {
      "cell_type": "markdown",
      "metadata": {
        "id": "b0eba71f-c487-4645-a9db-b38e3de859bd"
      },
      "source": [
        "## Tasks\n",
        "\n",
        "Now write and execute SQL queries to solve the assignment tasks.\n",
        "\n",
        "### Task 1\n",
        "\n",
        "\n",
        "\n",
        "\n",
        "##### Display the names of the unique launch sites  in the space mission\n"
      ]
    },
    {
      "cell_type": "code",
      "execution_count": 6,
      "metadata": {
        "id": "FaQH8b7kRYGm"
      },
      "outputs": [],
      "source": [
        "import pandas as pd"
      ]
    },
    {
      "cell_type": "code",
      "execution_count": 26,
      "metadata": {
        "colab": {
          "base_uri": "https://localhost:8080/",
          "height": 162
        },
        "id": "f31edd45-b6bb-4b6b-b0e8-7f5abee8c30a",
        "outputId": "aeb256f9-ceb3-4336-ebf2-f7c8a2715a9b"
      },
      "outputs": [
        {
          "name": "stdout",
          "output_type": "stream",
          "text": [
            " * ibm_db_sa://bxp31030:***@ea286ace-86c7-4d5b-8580-3fbfa46b1c66.bs2io90l08kqb1od8lcg.databases.appdomain.cloud:31505/bludb\n",
            "Done.\n"
          ]
        },
        {
          "data": {
            "text/html": [
              "<table>\n",
              "    <tr>\n",
              "        <th>launch_site</th>\n",
              "    </tr>\n",
              "    <tr>\n",
              "        <td>CCAFS LC-40</td>\n",
              "    </tr>\n",
              "    <tr>\n",
              "        <td>CCAFS SLC-40</td>\n",
              "    </tr>\n",
              "    <tr>\n",
              "        <td>KSC LC-39A</td>\n",
              "    </tr>\n",
              "    <tr>\n",
              "        <td>VAFB SLC-4E</td>\n",
              "    </tr>\n",
              "</table>"
            ],
            "text/plain": [
              "[('CCAFS LC-40',), ('CCAFS SLC-40',), ('KSC LC-39A',), ('VAFB SLC-4E',)]"
            ]
          },
          "execution_count": 26,
          "metadata": {},
          "output_type": "execute_result"
        }
      ],
      "source": [
        "%%sql\n",
        "SELECT DISTINCT launch_site FROM SPACEX"
      ]
    },
    {
      "cell_type": "code",
      "execution_count": 27,
      "metadata": {
        "colab": {
          "base_uri": "https://localhost:8080/"
        },
        "id": "vO9_5mFDSEpa",
        "outputId": "94aa84b1-9121-4d09-c245-65f54e5bafeb"
      },
      "outputs": [
        {
          "name": "stdout",
          "output_type": "stream",
          "text": [
            "+--------------+\n",
            "| launch_site  |\n",
            "+--------------+\n",
            "| CCAFS LC-40  |\n",
            "| CCAFS SLC-40 |\n",
            "|  KSC LC-39A  |\n",
            "| VAFB SLC-4E  |\n",
            "+--------------+\n"
          ]
        }
      ],
      "source": [
        "result = _\n",
        "print(result)"
      ]
    },
    {
      "cell_type": "markdown",
      "metadata": {
        "id": "3dcd6095-ce1e-47fe-b980-82ec5c94868b"
      },
      "source": [
        "\n",
        "### Task 2\n",
        "\n",
        "\n",
        "#####  Display 5 records where launch sites begin with the string 'CCA' \n"
      ]
    },
    {
      "cell_type": "code",
      "execution_count": 29,
      "metadata": {
        "colab": {
          "base_uri": "https://localhost:8080/",
          "height": 183
        },
        "id": "546fb108-e3e5-4cd0-85c4-59d7b1c3de4e",
        "outputId": "257ec7c7-c948-4958-bd17-fda652c07c5a"
      },
      "outputs": [
        {
          "name": "stdout",
          "output_type": "stream",
          "text": [
            " * ibm_db_sa://bxp31030:***@ea286ace-86c7-4d5b-8580-3fbfa46b1c66.bs2io90l08kqb1od8lcg.databases.appdomain.cloud:31505/bludb\n",
            "Done.\n"
          ]
        },
        {
          "data": {
            "text/html": [
              "<table>\n",
              "    <tr>\n",
              "        <th>DATE</th>\n",
              "        <th>time_utc</th>\n",
              "        <th>booster_version</th>\n",
              "        <th>launch_site</th>\n",
              "        <th>payload</th>\n",
              "        <th>payload_mass_kg_</th>\n",
              "        <th>orbit</th>\n",
              "        <th>customer</th>\n",
              "        <th>mission_outcome</th>\n",
              "        <th>landing_outcome</th>\n",
              "    </tr>\n",
              "    <tr>\n",
              "        <td>2010-06-04</td>\n",
              "        <td>18:45:00</td>\n",
              "        <td>F9 v1.0  B0003</td>\n",
              "        <td>CCAFS LC-40</td>\n",
              "        <td>Dragon Spacecraft Qualification Unit</td>\n",
              "        <td>0</td>\n",
              "        <td>LEO</td>\n",
              "        <td>SpaceX</td>\n",
              "        <td>Success</td>\n",
              "        <td>Failure (parachute)</td>\n",
              "    </tr>\n",
              "    <tr>\n",
              "        <td>2010-12-08</td>\n",
              "        <td>15:43:00</td>\n",
              "        <td>F9 v1.0  B0004</td>\n",
              "        <td>CCAFS LC-40</td>\n",
              "        <td>Dragon demo flight C1, two CubeSats, barrel of Brouere cheese</td>\n",
              "        <td>0</td>\n",
              "        <td>LEO (ISS)</td>\n",
              "        <td>NASA (COTS) NRO</td>\n",
              "        <td>Success</td>\n",
              "        <td>Failure (parachute)</td>\n",
              "    </tr>\n",
              "    <tr>\n",
              "        <td>2012-05-22</td>\n",
              "        <td>7:44:00</td>\n",
              "        <td>F9 v1.0  B0005</td>\n",
              "        <td>CCAFS LC-40</td>\n",
              "        <td>Dragon demo flight C2</td>\n",
              "        <td>525</td>\n",
              "        <td>LEO (ISS)</td>\n",
              "        <td>NASA (COTS)</td>\n",
              "        <td>Success</td>\n",
              "        <td>No attempt</td>\n",
              "    </tr>\n",
              "    <tr>\n",
              "        <td>2012-10-08</td>\n",
              "        <td>0:35:00</td>\n",
              "        <td>F9 v1.0  B0006</td>\n",
              "        <td>CCAFS LC-40</td>\n",
              "        <td>SpaceX CRS-1</td>\n",
              "        <td>500</td>\n",
              "        <td>LEO (ISS)</td>\n",
              "        <td>NASA (CRS)</td>\n",
              "        <td>Success</td>\n",
              "        <td>No attempt</td>\n",
              "    </tr>\n",
              "    <tr>\n",
              "        <td>2013-03-01</td>\n",
              "        <td>15:10:00</td>\n",
              "        <td>F9 v1.0  B0007</td>\n",
              "        <td>CCAFS LC-40</td>\n",
              "        <td>SpaceX CRS-2</td>\n",
              "        <td>677</td>\n",
              "        <td>LEO (ISS)</td>\n",
              "        <td>NASA (CRS)</td>\n",
              "        <td>Success</td>\n",
              "        <td>No attempt</td>\n",
              "    </tr>\n",
              "</table>"
            ],
            "text/plain": [
              "[(datetime.date(2010, 6, 4), '18:45:00', 'F9 v1.0  B0003', 'CCAFS LC-40', 'Dragon Spacecraft Qualification Unit', 0, 'LEO', 'SpaceX', 'Success', 'Failure (parachute)'),\n",
              " (datetime.date(2010, 12, 8), '15:43:00', 'F9 v1.0  B0004', 'CCAFS LC-40', 'Dragon demo flight C1, two CubeSats, barrel of Brouere cheese', 0, 'LEO (ISS)', 'NASA (COTS) NRO', 'Success', 'Failure (parachute)'),\n",
              " (datetime.date(2012, 5, 22), '7:44:00', 'F9 v1.0  B0005', 'CCAFS LC-40', 'Dragon demo flight C2', 525, 'LEO (ISS)', 'NASA (COTS)', 'Success', 'No attempt'),\n",
              " (datetime.date(2012, 10, 8), '0:35:00', 'F9 v1.0  B0006', 'CCAFS LC-40', 'SpaceX CRS-1', 500, 'LEO (ISS)', 'NASA (CRS)', 'Success', 'No attempt'),\n",
              " (datetime.date(2013, 3, 1), '15:10:00', 'F9 v1.0  B0007', 'CCAFS LC-40', 'SpaceX CRS-2', 677, 'LEO (ISS)', 'NASA (CRS)', 'Success', 'No attempt')]"
            ]
          },
          "execution_count": 29,
          "metadata": {},
          "output_type": "execute_result"
        }
      ],
      "source": [
        "%%sql\n",
        "SELECT * FROM SPACEX \n",
        "WHERE launch_site LIKE 'CCA%'\n",
        "LIMIT 5"
      ]
    },
    {
      "cell_type": "code",
      "execution_count": 30,
      "metadata": {
        "colab": {
          "base_uri": "https://localhost:8080/"
        },
        "id": "pm-LvpmkSS8_",
        "outputId": "5eb330d7-5a32-44bf-a83b-0d5c72009899"
      },
      "outputs": [
        {
          "name": "stdout",
          "output_type": "stream",
          "text": [
            "+------------+----------+-----------------+-------------+---------------------------------------------------------------+------------------+-----------+-----------------+-----------------+---------------------+\n",
            "|    DATE    | time_utc | booster_version | launch_site |                            payload                            | payload_mass_kg_ |   orbit   |     customer    | mission_outcome |   landing_outcome   |\n",
            "+------------+----------+-----------------+-------------+---------------------------------------------------------------+------------------+-----------+-----------------+-----------------+---------------------+\n",
            "| 2010-06-04 | 18:45:00 |  F9 v1.0  B0003 | CCAFS LC-40 |              Dragon Spacecraft Qualification Unit             |        0         |    LEO    |      SpaceX     |     Success     | Failure (parachute) |\n",
            "| 2010-12-08 | 15:43:00 |  F9 v1.0  B0004 | CCAFS LC-40 | Dragon demo flight C1, two CubeSats, barrel of Brouere cheese |        0         | LEO (ISS) | NASA (COTS) NRO |     Success     | Failure (parachute) |\n",
            "| 2012-05-22 | 7:44:00  |  F9 v1.0  B0005 | CCAFS LC-40 |                     Dragon demo flight C2                     |       525        | LEO (ISS) |   NASA (COTS)   |     Success     |      No attempt     |\n",
            "| 2012-10-08 | 0:35:00  |  F9 v1.0  B0006 | CCAFS LC-40 |                          SpaceX CRS-1                         |       500        | LEO (ISS) |    NASA (CRS)   |     Success     |      No attempt     |\n",
            "| 2013-03-01 | 15:10:00 |  F9 v1.0  B0007 | CCAFS LC-40 |                          SpaceX CRS-2                         |       677        | LEO (ISS) |    NASA (CRS)   |     Success     |      No attempt     |\n",
            "+------------+----------+-----------------+-------------+---------------------------------------------------------------+------------------+-----------+-----------------+-----------------+---------------------+\n"
          ]
        }
      ],
      "source": [
        "result = _\n",
        "print(result)"
      ]
    },
    {
      "cell_type": "markdown",
      "metadata": {
        "id": "c71c6965-cf7d-4d67-ac53-a02bfd9989d1"
      },
      "source": [
        "### Task 3\n",
        "\n",
        "\n",
        "\n",
        "\n",
        "##### Display the total payload mass carried by boosters launched by NASA (CRS)\n"
      ]
    },
    {
      "cell_type": "code",
      "execution_count": 31,
      "metadata": {
        "colab": {
          "base_uri": "https://localhost:8080/",
          "height": 97
        },
        "id": "880f11e0-4aa3-46cd-a6c6-7b5f483544f0",
        "outputId": "4533ac06-5a62-4cb7-9058-0eb5e973f2f4"
      },
      "outputs": [
        {
          "name": "stdout",
          "output_type": "stream",
          "text": [
            " * ibm_db_sa://bxp31030:***@ea286ace-86c7-4d5b-8580-3fbfa46b1c66.bs2io90l08kqb1od8lcg.databases.appdomain.cloud:31505/bludb\n",
            "Done.\n"
          ]
        },
        {
          "data": {
            "text/html": [
              "<table>\n",
              "    <tr>\n",
              "        <th>sum_payload_mass</th>\n",
              "    </tr>\n",
              "    <tr>\n",
              "        <td>45596</td>\n",
              "    </tr>\n",
              "</table>"
            ],
            "text/plain": [
              "[(45596,)]"
            ]
          },
          "execution_count": 31,
          "metadata": {},
          "output_type": "execute_result"
        }
      ],
      "source": [
        "%%sql\n",
        "SELECT SUM(payload_mass_kg_) as sum_payload_mass FROM SPACEX\n",
        "WHERE customer = 'NASA (CRS)'"
      ]
    },
    {
      "cell_type": "code",
      "execution_count": 32,
      "metadata": {
        "colab": {
          "base_uri": "https://localhost:8080/"
        },
        "id": "ukfvgbJtSqtu",
        "outputId": "8a510bda-cd35-4447-fb55-de360e33c88c"
      },
      "outputs": [
        {
          "name": "stdout",
          "output_type": "stream",
          "text": [
            "+------------------+\n",
            "| sum_payload_mass |\n",
            "+------------------+\n",
            "|      45596       |\n",
            "+------------------+\n"
          ]
        }
      ],
      "source": [
        "result = _\n",
        "print(result)"
      ]
    },
    {
      "cell_type": "markdown",
      "metadata": {
        "id": "390dab14-7504-49dd-80d1-845142f118e9"
      },
      "source": [
        "### Task 4\n",
        "\n",
        "\n",
        "\n",
        "\n",
        "##### Display average payload mass carried by booster version F9 v1.1\n"
      ]
    },
    {
      "cell_type": "code",
      "execution_count": 33,
      "metadata": {
        "colab": {
          "base_uri": "https://localhost:8080/",
          "height": 97
        },
        "id": "f5556b76-1f7b-4cdf-9802-0ae766b032ff",
        "outputId": "42808d59-f990-4061-f9ef-ca56b7638f76"
      },
      "outputs": [
        {
          "name": "stdout",
          "output_type": "stream",
          "text": [
            " * ibm_db_sa://bxp31030:***@ea286ace-86c7-4d5b-8580-3fbfa46b1c66.bs2io90l08kqb1od8lcg.databases.appdomain.cloud:31505/bludb\n",
            "Done.\n"
          ]
        },
        {
          "data": {
            "text/html": [
              "<table>\n",
              "    <tr>\n",
              "        <th>average_payload_mass</th>\n",
              "    </tr>\n",
              "    <tr>\n",
              "        <td>2928</td>\n",
              "    </tr>\n",
              "</table>"
            ],
            "text/plain": [
              "[(2928,)]"
            ]
          },
          "execution_count": 33,
          "metadata": {},
          "output_type": "execute_result"
        }
      ],
      "source": [
        "%%sql\n",
        "SELECT AVG(payload_mass_kg_) as average_payload_mass FROM SPACEX\n",
        "WHERE booster_version = 'F9 v1.1'"
      ]
    },
    {
      "cell_type": "code",
      "execution_count": 34,
      "metadata": {
        "colab": {
          "base_uri": "https://localhost:8080/"
        },
        "id": "vSp3D0dcSshm",
        "outputId": "d3850e0b-3441-4cfb-9b16-9be9caefbb8e"
      },
      "outputs": [
        {
          "name": "stdout",
          "output_type": "stream",
          "text": [
            "+----------------------+\n",
            "| average_payload_mass |\n",
            "+----------------------+\n",
            "|         2928         |\n",
            "+----------------------+\n"
          ]
        }
      ],
      "source": [
        "result = _\n",
        "print(result)"
      ]
    },
    {
      "cell_type": "markdown",
      "metadata": {
        "id": "2e1a7ec4-bbd5-403b-9e8d-2772313b32a7"
      },
      "source": [
        "### Task 5\n",
        "\n",
        "##### List the date when the first successful landing outcome in ground pad was acheived.\n",
        "\n",
        "\n",
        "_Hint:Use min function_ \n"
      ]
    },
    {
      "cell_type": "code",
      "execution_count": 35,
      "metadata": {
        "colab": {
          "base_uri": "https://localhost:8080/",
          "height": 97
        },
        "id": "1cc1dbe7-cb50-4b40-8db3-b4d4cdee01a5",
        "outputId": "e41b71a5-8c7a-4a14-eeb4-c31eb180f656"
      },
      "outputs": [
        {
          "name": "stdout",
          "output_type": "stream",
          "text": [
            " * ibm_db_sa://bxp31030:***@ea286ace-86c7-4d5b-8580-3fbfa46b1c66.bs2io90l08kqb1od8lcg.databases.appdomain.cloud:31505/bludb\n",
            "Done.\n"
          ]
        },
        {
          "data": {
            "text/html": [
              "<table>\n",
              "    <tr>\n",
              "        <th>first_succesful_landing_date</th>\n",
              "    </tr>\n",
              "    <tr>\n",
              "        <td>2015-12-22</td>\n",
              "    </tr>\n",
              "</table>"
            ],
            "text/plain": [
              "[(datetime.date(2015, 12, 22),)]"
            ]
          },
          "execution_count": 35,
          "metadata": {},
          "output_type": "execute_result"
        }
      ],
      "source": [
        "%%sql\n",
        "SELECT MIN(DATE) as first_succesful_landing_date FROM SPACEX\n",
        "WHERE landing_outcome = 'Success (ground pad)'"
      ]
    },
    {
      "cell_type": "code",
      "execution_count": 36,
      "metadata": {
        "colab": {
          "base_uri": "https://localhost:8080/"
        },
        "id": "lzCySaDQS0ox",
        "outputId": "80b27d65-5d8c-45f1-9548-8fc5c0ac6066"
      },
      "outputs": [
        {
          "name": "stdout",
          "output_type": "stream",
          "text": [
            "+------------------------------+\n",
            "| first_succesful_landing_date |\n",
            "+------------------------------+\n",
            "|          2015-12-22          |\n",
            "+------------------------------+\n"
          ]
        }
      ],
      "source": [
        "result = _\n",
        "print(result)"
      ]
    },
    {
      "cell_type": "markdown",
      "metadata": {
        "id": "61b1d91a-b208-4beb-80d4-00624dbe46a8"
      },
      "source": [
        "### Task 6\n",
        "\n",
        "##### List the names of the boosters which have success in drone ship and have payload mass greater than 4000 but less than 6000\n"
      ]
    },
    {
      "cell_type": "code",
      "execution_count": 37,
      "metadata": {
        "colab": {
          "base_uri": "https://localhost:8080/",
          "height": 226
        },
        "id": "521f4752-62e6-402b-ac53-42b8795dc1c4",
        "outputId": "0ac91a70-f1d9-44a1-ef5d-7c0866c13ec4"
      },
      "outputs": [
        {
          "name": "stdout",
          "output_type": "stream",
          "text": [
            " * ibm_db_sa://bxp31030:***@ea286ace-86c7-4d5b-8580-3fbfa46b1c66.bs2io90l08kqb1od8lcg.databases.appdomain.cloud:31505/bludb\n",
            "Done.\n"
          ]
        },
        {
          "data": {
            "text/html": [
              "<table>\n",
              "    <tr>\n",
              "        <th>booster_version</th>\n",
              "    </tr>\n",
              "    <tr>\n",
              "        <td>F9 B4 B1042.1</td>\n",
              "    </tr>\n",
              "    <tr>\n",
              "        <td>F9 B4 B1045.1</td>\n",
              "    </tr>\n",
              "    <tr>\n",
              "        <td>F9 B5  B1046.1</td>\n",
              "    </tr>\n",
              "    <tr>\n",
              "        <td>F9 FT  B1029.2</td>\n",
              "    </tr>\n",
              "    <tr>\n",
              "        <td>F9 FT B1021.1</td>\n",
              "    </tr>\n",
              "    <tr>\n",
              "        <td>F9 FT B1023.1</td>\n",
              "    </tr>\n",
              "    <tr>\n",
              "        <td>F9 FT B1038.1</td>\n",
              "    </tr>\n",
              "</table>"
            ],
            "text/plain": [
              "[('F9 B4 B1042.1',),\n",
              " ('F9 B4 B1045.1',),\n",
              " ('F9 B5  B1046.1',),\n",
              " ('F9 FT  B1029.2',),\n",
              " ('F9 FT B1021.1',),\n",
              " ('F9 FT B1023.1',),\n",
              " ('F9 FT B1038.1',)]"
            ]
          },
          "execution_count": 37,
          "metadata": {},
          "output_type": "execute_result"
        }
      ],
      "source": [
        "%%sql\n",
        "SELECT DISTINCT booster_version FROM SPACEX\n",
        "WHERE 4000 < payload_mass_kg_ < 6000 \n",
        "AND landing_outcome = 'Success (drone ship)'"
      ]
    },
    {
      "cell_type": "code",
      "execution_count": 38,
      "metadata": {
        "colab": {
          "base_uri": "https://localhost:8080/"
        },
        "id": "xrGSBzQES28C",
        "outputId": "ff43dde3-180b-4bf6-fa79-ac2a96577887"
      },
      "outputs": [
        {
          "name": "stdout",
          "output_type": "stream",
          "text": [
            "+-----------------+\n",
            "| booster_version |\n",
            "+-----------------+\n",
            "|  F9 B4 B1042.1  |\n",
            "|  F9 B4 B1045.1  |\n",
            "|  F9 B5  B1046.1 |\n",
            "|  F9 FT  B1029.2 |\n",
            "|  F9 FT B1021.1  |\n",
            "|  F9 FT B1023.1  |\n",
            "|  F9 FT B1038.1  |\n",
            "+-----------------+\n"
          ]
        }
      ],
      "source": [
        "result = _\n",
        "print(result)"
      ]
    },
    {
      "cell_type": "markdown",
      "metadata": {
        "id": "ceccf431-8329-4443-875f-1505a5c2c083"
      },
      "source": [
        "### Task 7\n",
        "\n",
        "\n",
        "\n",
        "\n",
        "##### List the total number of successful and failure mission outcomes\n"
      ]
    },
    {
      "cell_type": "code",
      "execution_count": 39,
      "metadata": {
        "colab": {
          "base_uri": "https://localhost:8080/",
          "height": 140
        },
        "id": "f0099236-66c8-4369-ae2d-fc5aae522610",
        "outputId": "584e0acc-d68e-4deb-c240-0610ae04d468"
      },
      "outputs": [
        {
          "name": "stdout",
          "output_type": "stream",
          "text": [
            " * ibm_db_sa://bxp31030:***@ea286ace-86c7-4d5b-8580-3fbfa46b1c66.bs2io90l08kqb1od8lcg.databases.appdomain.cloud:31505/bludb\n",
            "Done.\n"
          ]
        },
        {
          "data": {
            "text/html": [
              "<table>\n",
              "    <tr>\n",
              "        <th>mission_outcome</th>\n",
              "        <th>count_mission_outcome</th>\n",
              "    </tr>\n",
              "    <tr>\n",
              "        <td>Failure (in flight)</td>\n",
              "        <td>1</td>\n",
              "    </tr>\n",
              "    <tr>\n",
              "        <td>Success</td>\n",
              "        <td>99</td>\n",
              "    </tr>\n",
              "    <tr>\n",
              "        <td>Success (payload status unclear)</td>\n",
              "        <td>1</td>\n",
              "    </tr>\n",
              "</table>"
            ],
            "text/plain": [
              "[('Failure (in flight)', 1),\n",
              " ('Success', 99),\n",
              " ('Success (payload status unclear)', 1)]"
            ]
          },
          "execution_count": 39,
          "metadata": {},
          "output_type": "execute_result"
        }
      ],
      "source": [
        "%%sql\n",
        "SELECT mission_outcome, COUNT(*) AS count_mission_outcome FROM SPACEX\n",
        "GROUP BY mission_outcome;"
      ]
    },
    {
      "cell_type": "code",
      "execution_count": 40,
      "metadata": {
        "colab": {
          "base_uri": "https://localhost:8080/"
        },
        "id": "xAqecaBLS5AA",
        "outputId": "1ac4e79f-4b97-4d40-a9ad-3f7ea4be3a81"
      },
      "outputs": [
        {
          "name": "stdout",
          "output_type": "stream",
          "text": [
            "+----------------------------------+-----------------------+\n",
            "|         mission_outcome          | count_mission_outcome |\n",
            "+----------------------------------+-----------------------+\n",
            "|       Failure (in flight)        |           1           |\n",
            "|             Success              |           99          |\n",
            "| Success (payload status unclear) |           1           |\n",
            "+----------------------------------+-----------------------+\n"
          ]
        }
      ],
      "source": [
        "result = _\n",
        "print(result)"
      ]
    },
    {
      "cell_type": "markdown",
      "metadata": {
        "id": "cffcca0b-2fb7-45a9-afd6-a2af9edcddfa"
      },
      "source": [
        "### Task 8\n",
        "\n",
        "\n",
        "\n",
        "##### List the   names of the booster_versions which have carried the maximum payload mass. Use a subquery\n"
      ]
    },
    {
      "cell_type": "code",
      "execution_count": 41,
      "metadata": {
        "colab": {
          "base_uri": "https://localhost:8080/",
          "height": 332
        },
        "id": "2cb7b593-2192-47e4-99c5-2bc62ca6ebd5",
        "outputId": "d3948f6a-b31d-476a-9859-3c0cb6033949"
      },
      "outputs": [
        {
          "name": "stdout",
          "output_type": "stream",
          "text": [
            " * ibm_db_sa://bxp31030:***@ea286ace-86c7-4d5b-8580-3fbfa46b1c66.bs2io90l08kqb1od8lcg.databases.appdomain.cloud:31505/bludb\n",
            "Done.\n"
          ]
        },
        {
          "data": {
            "text/html": [
              "<table>\n",
              "    <tr>\n",
              "        <th>booster_version</th>\n",
              "    </tr>\n",
              "    <tr>\n",
              "        <td>F9 B5 B1048.4</td>\n",
              "    </tr>\n",
              "    <tr>\n",
              "        <td>F9 B5 B1048.5</td>\n",
              "    </tr>\n",
              "    <tr>\n",
              "        <td>F9 B5 B1049.4</td>\n",
              "    </tr>\n",
              "    <tr>\n",
              "        <td>F9 B5 B1049.5</td>\n",
              "    </tr>\n",
              "    <tr>\n",
              "        <td>F9 B5 B1049.7</td>\n",
              "    </tr>\n",
              "    <tr>\n",
              "        <td>F9 B5 B1051.3</td>\n",
              "    </tr>\n",
              "    <tr>\n",
              "        <td>F9 B5 B1051.4</td>\n",
              "    </tr>\n",
              "    <tr>\n",
              "        <td>F9 B5 B1051.6</td>\n",
              "    </tr>\n",
              "    <tr>\n",
              "        <td>F9 B5 B1056.4</td>\n",
              "    </tr>\n",
              "    <tr>\n",
              "        <td>F9 B5 B1058.3</td>\n",
              "    </tr>\n",
              "    <tr>\n",
              "        <td>F9 B5 B1060.2</td>\n",
              "    </tr>\n",
              "    <tr>\n",
              "        <td>F9 B5 B1060.3</td>\n",
              "    </tr>\n",
              "</table>"
            ],
            "text/plain": [
              "[('F9 B5 B1048.4',),\n",
              " ('F9 B5 B1048.5',),\n",
              " ('F9 B5 B1049.4',),\n",
              " ('F9 B5 B1049.5',),\n",
              " ('F9 B5 B1049.7',),\n",
              " ('F9 B5 B1051.3',),\n",
              " ('F9 B5 B1051.4',),\n",
              " ('F9 B5 B1051.6',),\n",
              " ('F9 B5 B1056.4',),\n",
              " ('F9 B5 B1058.3',),\n",
              " ('F9 B5 B1060.2',),\n",
              " ('F9 B5 B1060.3',)]"
            ]
          },
          "execution_count": 41,
          "metadata": {},
          "output_type": "execute_result"
        }
      ],
      "source": [
        "%%sql\n",
        "SELECT DISTINCT booster_version FROM SPACEX\n",
        "WHERE payload_mass_kg_ = (SELECT MAX(payload_mass_kg_) FROM SPACEX)"
      ]
    },
    {
      "cell_type": "code",
      "execution_count": 42,
      "metadata": {
        "colab": {
          "base_uri": "https://localhost:8080/"
        },
        "id": "TwMg58JSS7-q",
        "outputId": "f3770d01-d7b7-475e-deb4-1d2a24cb1ee7"
      },
      "outputs": [
        {
          "name": "stdout",
          "output_type": "stream",
          "text": [
            "+-----------------+\n",
            "| booster_version |\n",
            "+-----------------+\n",
            "|  F9 B5 B1048.4  |\n",
            "|  F9 B5 B1048.5  |\n",
            "|  F9 B5 B1049.4  |\n",
            "|  F9 B5 B1049.5  |\n",
            "|  F9 B5 B1049.7  |\n",
            "|  F9 B5 B1051.3  |\n",
            "|  F9 B5 B1051.4  |\n",
            "|  F9 B5 B1051.6  |\n",
            "|  F9 B5 B1056.4  |\n",
            "|  F9 B5 B1058.3  |\n",
            "|  F9 B5 B1060.2  |\n",
            "|  F9 B5 B1060.3  |\n",
            "+-----------------+\n"
          ]
        }
      ],
      "source": [
        "result = _\n",
        "print(result)"
      ]
    },
    {
      "cell_type": "markdown",
      "metadata": {
        "id": "d81d8af0-6542-4c3b-8713-d2c266a36434"
      },
      "source": [
        "### Task 9\n",
        "\n",
        "\n",
        "##### List the failed landing_outcomes in drone ship, their booster versions, and launch site names for in year 2015\n"
      ]
    },
    {
      "cell_type": "code",
      "execution_count": 46,
      "metadata": {
        "colab": {
          "base_uri": "https://localhost:8080/",
          "height": 119
        },
        "id": "dd00fec0-d4b5-4fb1-8cd7-f95ebf2f1856",
        "outputId": "991edeea-a398-478f-ec30-d92cba6a440e"
      },
      "outputs": [
        {
          "name": "stdout",
          "output_type": "stream",
          "text": [
            " * ibm_db_sa://bxp31030:***@ea286ace-86c7-4d5b-8580-3fbfa46b1c66.bs2io90l08kqb1od8lcg.databases.appdomain.cloud:31505/bludb\n",
            "Done.\n"
          ]
        },
        {
          "data": {
            "text/html": [
              "<table>\n",
              "    <tr>\n",
              "        <th>DATE</th>\n",
              "        <th>landing_outcome</th>\n",
              "        <th>booster_version</th>\n",
              "        <th>launch_site</th>\n",
              "    </tr>\n",
              "    <tr>\n",
              "        <td>2015-01-10</td>\n",
              "        <td>Failure (drone ship)</td>\n",
              "        <td>F9 v1.1 B1012</td>\n",
              "        <td>CCAFS LC-40</td>\n",
              "    </tr>\n",
              "    <tr>\n",
              "        <td>2015-04-14</td>\n",
              "        <td>Failure (drone ship)</td>\n",
              "        <td>F9 v1.1 B1015</td>\n",
              "        <td>CCAFS LC-40</td>\n",
              "    </tr>\n",
              "</table>"
            ],
            "text/plain": [
              "[(datetime.date(2015, 1, 10), 'Failure (drone ship)', 'F9 v1.1 B1012', 'CCAFS LC-40'),\n",
              " (datetime.date(2015, 4, 14), 'Failure (drone ship)', 'F9 v1.1 B1015', 'CCAFS LC-40')]"
            ]
          },
          "execution_count": 46,
          "metadata": {},
          "output_type": "execute_result"
        }
      ],
      "source": [
        "%%sql\n",
        "SELECT Date, landing_outcome, booster_version, launch_site FROM SPACEX\n",
        "WHERE landing_outcome = 'Failure (drone ship)' AND Date BETWEEN '2015-01-01' AND '2015-12-31'"
      ]
    },
    {
      "cell_type": "code",
      "execution_count": 47,
      "metadata": {
        "colab": {
          "base_uri": "https://localhost:8080/"
        },
        "id": "3wmBcwIOTEFl",
        "outputId": "6227ca49-2dae-442d-bd20-7d22d09308c4"
      },
      "outputs": [
        {
          "name": "stdout",
          "output_type": "stream",
          "text": [
            "+------------+----------------------+-----------------+-------------+\n",
            "|    DATE    |   landing_outcome    | booster_version | launch_site |\n",
            "+------------+----------------------+-----------------+-------------+\n",
            "| 2015-01-10 | Failure (drone ship) |  F9 v1.1 B1012  | CCAFS LC-40 |\n",
            "| 2015-04-14 | Failure (drone ship) |  F9 v1.1 B1015  | CCAFS LC-40 |\n",
            "+------------+----------------------+-----------------+-------------+\n"
          ]
        }
      ],
      "source": [
        "result = _\n",
        "print(result)"
      ]
    },
    {
      "cell_type": "markdown",
      "metadata": {
        "id": "cbfc7853-46d8-4a89-9468-1170274ec555"
      },
      "source": [
        "### Task 10\n",
        "\n",
        "##### Rank the count of landing outcomes (such as Failure (drone ship) or Success (ground pad)) between the date 2010-06-04 and 2017-03-20, in descending order\n"
      ]
    },
    {
      "cell_type": "code",
      "execution_count": 48,
      "metadata": {
        "colab": {
          "base_uri": "https://localhost:8080/",
          "height": 247
        },
        "id": "a1aecee7-7189-4189-9c74-c0808ac34cd6",
        "outputId": "22445538-fa31-41bf-d39e-24516d3cb692",
        "scrolled": false
      },
      "outputs": [
        {
          "name": "stdout",
          "output_type": "stream",
          "text": [
            " * ibm_db_sa://bxp31030:***@ea286ace-86c7-4d5b-8580-3fbfa46b1c66.bs2io90l08kqb1od8lcg.databases.appdomain.cloud:31505/bludb\n",
            "Done.\n"
          ]
        },
        {
          "data": {
            "text/html": [
              "<table>\n",
              "    <tr>\n",
              "        <th>landing_outcome</th>\n",
              "        <th>count_landing_outcome</th>\n",
              "    </tr>\n",
              "    <tr>\n",
              "        <td>No attempt</td>\n",
              "        <td>10</td>\n",
              "    </tr>\n",
              "    <tr>\n",
              "        <td>Failure (drone ship)</td>\n",
              "        <td>5</td>\n",
              "    </tr>\n",
              "    <tr>\n",
              "        <td>Success (drone ship)</td>\n",
              "        <td>5</td>\n",
              "    </tr>\n",
              "    <tr>\n",
              "        <td>Controlled (ocean)</td>\n",
              "        <td>3</td>\n",
              "    </tr>\n",
              "    <tr>\n",
              "        <td>Success (ground pad)</td>\n",
              "        <td>3</td>\n",
              "    </tr>\n",
              "    <tr>\n",
              "        <td>Failure (parachute)</td>\n",
              "        <td>2</td>\n",
              "    </tr>\n",
              "    <tr>\n",
              "        <td>Uncontrolled (ocean)</td>\n",
              "        <td>2</td>\n",
              "    </tr>\n",
              "    <tr>\n",
              "        <td>Precluded (drone ship)</td>\n",
              "        <td>1</td>\n",
              "    </tr>\n",
              "</table>"
            ],
            "text/plain": [
              "[('No attempt', 10),\n",
              " ('Failure (drone ship)', 5),\n",
              " ('Success (drone ship)', 5),\n",
              " ('Controlled (ocean)', 3),\n",
              " ('Success (ground pad)', 3),\n",
              " ('Failure (parachute)', 2),\n",
              " ('Uncontrolled (ocean)', 2),\n",
              " ('Precluded (drone ship)', 1)]"
            ]
          },
          "execution_count": 48,
          "metadata": {},
          "output_type": "execute_result"
        }
      ],
      "source": [
        "%%sql\n",
        "SELECT landing_outcome, COUNT(*) AS count_landing_outcome FROM SPACEX\n",
        "WHERE '2010-06-04' <= DATE AND DATE <= '2017-03-20' \n",
        "GROUP BY landing_outcome\n",
        "ORDER BY count_landing_outcome DESC"
      ]
    },
    {
      "cell_type": "code",
      "execution_count": 49,
      "metadata": {
        "colab": {
          "base_uri": "https://localhost:8080/"
        },
        "id": "L65PKxb0TKp9",
        "outputId": "9304855d-e761-458f-aff3-9e6fbddc21c7"
      },
      "outputs": [
        {
          "name": "stdout",
          "output_type": "stream",
          "text": [
            "+------------------------+-----------------------+\n",
            "|    landing_outcome     | count_landing_outcome |\n",
            "+------------------------+-----------------------+\n",
            "|       No attempt       |           10          |\n",
            "|  Failure (drone ship)  |           5           |\n",
            "|  Success (drone ship)  |           5           |\n",
            "|   Controlled (ocean)   |           3           |\n",
            "|  Success (ground pad)  |           3           |\n",
            "|  Failure (parachute)   |           2           |\n",
            "|  Uncontrolled (ocean)  |           2           |\n",
            "| Precluded (drone ship) |           1           |\n",
            "+------------------------+-----------------------+\n"
          ]
        }
      ],
      "source": [
        "result = _\n",
        "print(result)"
      ]
    },
    {
      "cell_type": "markdown",
      "metadata": {
        "id": "07c75a47-4b2b-4dba-a09d-2890d61169ca"
      },
      "source": [
        "### Reference Links\n",
        "\n",
        "* <a href =\"https://cf-courses-data.s3.us.cloud-object-storage.appdomain.cloud/IBMDeveloperSkillsNetwork-DB0201EN-SkillsNetwork/labs/Labs_Coursera_V5/labs/Lab%20-%20String%20Patterns%20-%20Sorting%20-%20Grouping/instructional-labs.md.html?origin=www.coursera.org\">Hands-on Lab : String Patterns, Sorting and Grouping</a>  \n",
        "\n",
        "*  <a  href=\"https://cf-courses-data.s3.us.cloud-object-storage.appdomain.cloud/IBMDeveloperSkillsNetwork-DB0201EN-SkillsNetwork/labs/Labs_Coursera_V5/labs/Lab%20-%20Built-in%20functions%20/Hands-on_Lab__Built-in_Functions.md.html?origin=www.coursera.org\">Hands-on Lab: Built-in functions</a>\n",
        "\n",
        "*  <a  href=\"https://cf-courses-data.s3.us.cloud-object-storage.appdomain.cloud/IBMDeveloperSkillsNetwork-DB0201EN-SkillsNetwork/labs/Labs_Coursera_V5/labs/Lab%20-%20Sub-queries%20and%20Nested%20SELECTs%20/instructional-labs.md.html?origin=www.coursera.org\">Hands-on Lab : Sub-queries and Nested SELECT Statements</a>\n",
        "\n",
        "*   <a href=\"https://cf-courses-data.s3.us.cloud-object-storage.appdomain.cloud/IBMDeveloperSkillsNetwork-DB0201EN-SkillsNetwork/labs/Module%205/DB0201EN-Week3-1-3-SQLmagic.ipynb\">Hands-on Tutorial: Accessing Databases with SQL magic</a>\n",
        "\n",
        "*  <a href= \"https://cf-courses-data.s3.us.cloud-object-storage.appdomain.cloud/IBMDeveloperSkillsNetwork-DB0201EN-SkillsNetwork/labs/Module%205/DB0201EN-Week3-1-4-Analyzing.ipynb\">Hands-on Lab: Analyzing a real World Data Set</a>\n",
        "\n",
        "\n"
      ]
    },
    {
      "cell_type": "markdown",
      "metadata": {
        "id": "76a8e6fb-7dfe-4e28-ab8e-c240920ae1d3"
      },
      "source": [
        "## Author(s)\n",
        "\n",
        "<h4> Lakshmi Holla </h4>\n"
      ]
    },
    {
      "cell_type": "markdown",
      "metadata": {
        "id": "5b99ecdf-6aa7-4cca-b6fc-bbc01e78f553"
      },
      "source": [
        "## Other Contributors\n",
        "\n",
        "<h4> Rav Ahuja </h4>\n"
      ]
    },
    {
      "cell_type": "markdown",
      "metadata": {
        "id": "b0f48c22-b195-4751-9638-48a6e6948a22"
      },
      "source": [
        "## Change log\n",
        "| Date | Version | Changed by | Change Description |\n",
        "|------|--------|--------|---------|\n",
        "| 2021-10-12 | 0.4 |Lakshmi Holla | Changed markdown|\n",
        "| 2021-08-24 | 0.3 |Lakshmi Holla | Added library update|\n",
        "| 2021-07-09 | 0.2 |Lakshmi Holla | Changes made in magic sql|\n",
        "| 2021-05-20 | 0.1 |Lakshmi Holla | Created Initial Version |\n"
      ]
    },
    {
      "cell_type": "markdown",
      "metadata": {
        "id": "04d29bb5-339b-4842-b38c-af6de62d5ad5"
      },
      "source": [
        "## <h3 align=\"center\"> © IBM Corporation 2021. All rights reserved. <h3/>\n"
      ]
    }
  ],
  "metadata": {
    "colab": {
      "provenance": []
    },
    "kernelspec": {
      "display_name": "Python 3.10",
      "language": "python",
      "name": "python3"
    },
    "language_info": {
      "codemirror_mode": {
        "name": "ipython",
        "version": 3
      },
      "file_extension": ".py",
      "mimetype": "text/x-python",
      "name": "python",
      "nbconvert_exporter": "python",
      "pygments_lexer": "ipython3",
      "version": "3.10.9"
    }
  },
  "nbformat": 4,
  "nbformat_minor": 0
}
